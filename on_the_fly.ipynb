{
 "cells": [
  {
   "cell_type": "code",
   "execution_count": 12,
   "id": "4ebd6ce6-deb2-41ba-816b-9d9c499b0b8a",
   "metadata": {},
   "outputs": [],
   "source": [
    "import tensorflow as tf\n",
    "import os,glob\n",
    "import random"
   ]
  },
  {
   "cell_type": "code",
   "execution_count": 13,
   "id": "93550288-5f65-40ab-8a15-068d2b9915e5",
   "metadata": {},
   "outputs": [
    {
     "name": "stdout",
     "output_type": "stream",
     "text": [
      "223241\n"
     ]
    }
   ],
   "source": [
    "dataset_path = \"/home/data/kbh/DNS-Challenge-16kHz/datasets_fullband/clean_fullband\"\n",
    "list_clean = glob.glob(os.path.join(dataset_path,\"**\",'*.wav'))\n",
    "list_noise = glob.glob(os.path.join(\"/home/data/kbh/DNS-Challenge-16kHz/datasets_fullband/noise_fullband\",\"*.wav\"))\n",
    "print(len(file_list))"
   ]
  },
  {
   "cell_type": "code",
   "execution_count": 17,
   "id": "74be7e91-c242-4be0-be19-1b800976c37f",
   "metadata": {},
   "outputs": [
    {
     "name": "stdout",
     "output_type": "stream",
     "text": [
      "Clean batch shape: (32, 48000)\n",
      "Noisy batch shape: (32, 48000)\n"
     ]
    }
   ],
   "source": [
    "def mix(clean_path, noisy_path):\n",
    "    clean_audio, _ = tf.audio.decode_wav(tf.io.read_file(clean_path))\n",
    "    noisy_audio, _ = tf.audio.decode_wav(tf.io.read_file(noisy_path))\n",
    "    clean_audio = tf.squeeze(clean_audio, axis=-1)  \n",
    "    noisy_audio = tf.squeeze(noisy_audio, axis=-1) \n",
    "    if len(clean_audio) > 48000 :\n",
    "        clean_audio = clean_audio[:48000]\n",
    "    if len(noisy_audio) > 48000 :\n",
    "        noisy_audio = noisy_audio[:48000]\n",
    "    return clean_audio, noisy_audio\n",
    "\n",
    "# 5. 데이터셋 생성 및 랜덤하게 샘플링하는 제너레이터 함수 정의\n",
    "def data_generator():\n",
    "    for _ in range(1000):  \n",
    "        clean_path = random.choice(list_clean)\n",
    "        noisy_path = random.choice(list_noise)  \n",
    "        yield mix(clean_path, noisy_path)\n",
    "\n",
    "# 6. Dataset을 생성하여 clean과 noisy 쌍을 포함\n",
    "dataset = tf.data.Dataset.from_generator(\n",
    "    data_generator,\n",
    "    output_signature=(\n",
    "        tf.TensorSpec(shape=(None,), dtype=tf.float32),  # 가변 길이 clean 오디오\n",
    "        tf.TensorSpec(shape=(None,), dtype=tf.float32)   # 가변 길이 noisy 오디오\n",
    "    )\n",
    ")\n",
    "\n",
    "# https://www.tensorflow.org/api_docs/python/tf/data/Dataset#padded_batch\n",
    "# 필요시 max_length 설정, 데이터기 이것보다 길면 에러 발생 \n",
    "# Attempted to pad to a smaller size than the input element\n",
    "dataset = dataset.padded_batch(32, padded_shapes=([48000], [48000]))  \n",
    "\n",
    "\"\"\"\n",
    "https://www.tensorflow.org/guide/data_performance?hl=ko\n",
    "특히 변환에 백그라운드 스레드와 내부 버퍼를 사용하여 요청된 시간보다 앞서 입력 데이터세트에서 요소를 미리 가져옵니다.\n",
    "미리 가져올 요소의 수는 단일 학습 단계에서 사용되는 배치 수와 같거나 더 많아야 합니다. \n",
    "이 값을 수동으로 조정하거나, tf.data 런타임이 런타임에 값을 동적으로 조정하도록 tf.data.AUTOTUNE로 설정할 수 있습니다.\n",
    "\"\"\"\n",
    "dataset = dataset.prefetch(tf.data.AUTOTUNE)\n",
    "\n",
    "# 8. 데이터셋 샘플 확인\n",
    "for clean_batch, noisy_batch in dataset.take(1):\n",
    "    print(\"Clean batch shape:\", clean_batch.shape)\n",
    "    print(\"Noisy batch shape:\", noisy_batch.shape)"
   ]
  },
  {
   "cell_type": "code",
   "execution_count": null,
   "id": "3a8ee1e7-ffd5-4cb9-a91d-e457c9c806f4",
   "metadata": {},
   "outputs": [],
   "source": []
  }
 ],
 "metadata": {
  "kernelspec": {
   "display_name": "Python 3 (ipykernel)",
   "language": "python",
   "name": "python3"
  },
  "language_info": {
   "codemirror_mode": {
    "name": "ipython",
    "version": 3
   },
   "file_extension": ".py",
   "mimetype": "text/x-python",
   "name": "python",
   "nbconvert_exporter": "python",
   "pygments_lexer": "ipython3",
   "version": "3.10.14"
  }
 },
 "nbformat": 4,
 "nbformat_minor": 5
}
